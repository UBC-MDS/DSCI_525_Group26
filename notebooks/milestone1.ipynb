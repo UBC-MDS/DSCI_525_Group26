{
 "cells": [
  {
   "cell_type": "markdown",
   "id": "470a1ec8-32b7-4e70-8d07-76f878527b7d",
   "metadata": {},
   "source": [
    "# Milestone 1 Notebook"
   ]
  },
  {
   "cell_type": "markdown",
   "id": "4727891d-4be6-4c58-8db2-65c6b9500834",
   "metadata": {},
   "source": [
    "#### Authors: Julien Gordon, Adam Morphy, Mukund Iyer, Shiva Shankar Jena"
   ]
  },
  {
   "cell_type": "markdown",
   "id": "46fba66e-17cd-4249-b1bd-a285f634db86",
   "metadata": {},
   "source": [
    "## Questions 1. and 2.\n",
    "\n",
    "#### Link to Team Contract: https://docs.google.com/document/d/1uDSQLGPSfcgl3PisaC1-ngaViqJCkBiWFmDsN2FzZ9w/edit?usp=sharing\n",
    "#### Link ot Repo: https://github.com/UBC-MDS/DSCI_525_Group26"
   ]
  },
  {
   "cell_type": "code",
   "execution_count": 3,
   "id": "e3c0afbb-bf67-4167-af62-aff939d0c994",
   "metadata": {},
   "outputs": [],
   "source": [
    "import re\n",
    "import os\n",
    "import glob\n",
    "import zipfile\n",
    "import requests\n",
    "from urllib.request import urlretrieve\n",
    "import json\n",
    "import pandas as pd\n",
    "import numpy as np"
   ]
  },
  {
   "cell_type": "markdown",
   "id": "41c188a3-dd86-4253-9ca3-b3682c35144c",
   "metadata": {},
   "source": [
    "## 3. Data Download"
   ]
  },
  {
   "cell_type": "code",
   "execution_count": null,
   "id": "4360720a-7615-44bc-acfa-e366ab0594a6",
   "metadata": {},
   "outputs": [],
   "source": [
    "%cd /Users/apple/MDS/block6/525/DSCI_525_Group26/notebooks"
   ]
  },
  {
   "cell_type": "code",
   "execution_count": null,
   "id": "4fc1e342-abdc-4a16-bff1-f6cf1be59765",
   "metadata": {},
   "outputs": [],
   "source": [
    "# Necessary metadata\n",
    "article_id = 14096681  # this is the unique identifier of the article on figshare\n",
    "url = f\"https://api.figshare.com/v2/articles/{article_id}\"\n",
    "headers = {\"Content-Type\": \"application/json\"}\n",
    "output_directory = \"figsharerainfall/\"\n",
    "\n",
    "# Query\n",
    "response = requests.request(\"GET\", url, headers=headers)\n",
    "data = json.loads(response.text)  # this contains all the articles data\n",
    "files = data[\"files\"]             "
   ]
  },
  {
   "cell_type": "code",
   "execution_count": null,
   "id": "d005051c-b8a7-49b3-8776-d7f4d5f79013",
   "metadata": {},
   "outputs": [],
   "source": [
    "# Downloading file\n",
    "%%time\n",
    "files_to_dl = [\"data.zip\"]  \n",
    "for file in files:\n",
    "    if file[\"name\"] in files_to_dl:\n",
    "        os.makedirs(output_directory, exist_ok=True)\n",
    "        urlretrieve(file[\"download_url\"], output_directory + file[\"name\"])"
   ]
  },
  {
   "cell_type": "markdown",
   "id": "d0f35fa0-83ce-41a6-af7b-acde0e236a21",
   "metadata": {
    "tags": []
   },
   "source": [
    "> Data Download Comparison\n",
    "\n",
    "| Team Member | Operating System | RAM | Processor | Is SSD | Time taken |\n",
    "|:-----------:|:----------------:|:---:|:---------:|:------:|:----------:|\n",
    "| Adam Morphy | MacOS Big Sur | 8GB | 1.8 GHz Dual-Core Intel Core i5 | Yes | |\n",
    "| Mukund Iyer | MacOS Monterey | 8GB | 1.4 GHz Quad-Core Intel Core i5 | Yes | |\n",
    "| Julien Gordon | Ubuntu 20.04.4 LTS | 16GB | AMD® Ryzen 7 5800h with radeon graphics | Yes | |\n",
    "| Shiva Shankar Jena | MacOS Catalina 10.15.7 | 4GB | 1.4 GHz Dual-Core Intel Core i5 | Yes | 1m 16s |"
   ]
  },
  {
   "cell_type": "code",
   "execution_count": null,
   "id": "a1039289-a2fb-4d53-95fb-daff3c432d8c",
   "metadata": {},
   "outputs": [],
   "source": [
    "# Extracting files from zip\n",
    "with zipfile.ZipFile(os.path.join(output_directory, \"data.zip\"), 'r') as f:\n",
    "    f.extractall(output_directory)"
   ]
  },
  {
   "cell_type": "markdown",
   "id": "ffe91f57-5b49-4646-a74a-752a7c594565",
   "metadata": {},
   "source": [
    "## 4. Combining data CSVs"
   ]
  },
  {
   "cell_type": "code",
   "execution_count": null,
   "id": "b55889b6-e88c-4ff2-b8df-a7fb9e022fb0",
   "metadata": {},
   "outputs": [],
   "source": [
    "%%time\n",
    "\n",
    "use_cols = [\"rain\", \"lat_min\", \"lat_max\", \"Ion_min\", \"Ion_max\", \"rain (mm/day)\", \"model\"]\n",
    "files = glob.glob('figsharerainfall/*.csv')\n",
    "excluded_files = [\"figsharerainfall/observed_daily_rainfall_SYD.csv\"]\n",
    "df = pd.concat(\n",
    "    (\n",
    "        pd.read_csv(file, index_col=0)\n",
    "        .assign(model=re.findall(r'\\/(.*?)_', file)[0])\n",
    "        for file in files\n",
    "        if file not in excluded_files\n",
    "        \n",
    "    )\n",
    ")\n",
    "df.to_csv(\"figsharerainfall/combined_data.csv\")"
   ]
  },
  {
   "cell_type": "markdown",
   "id": "a44f1567-5984-4cbe-9661-e19304427a56",
   "metadata": {},
   "source": [
    "> Combining Data Comparison\n",
    "\n",
    "| Team Member | Operating System | RAM | Processor | Is SSD | Time taken |\n",
    "|:-----------:|:----------------:|:---:|:---------:|:------:|:----------:|\n",
    "| Adam Morphy | MacOS Big Sur | 8GB | 1.8 GHz Dual-Core Intel Core i5 | Yes | |\n",
    "| Mukund Iyer | MacOS Monterey | 8GB | 1.4 GHz Quad-Core Intel Core i5 | Yes | |\n",
    "| Julien Gordon | Ubuntu 20.04.4 LTS | 16GB | AMD® Ryzen 7 5800h with radeon graphics | Yes | |\n",
    "| Shiva Shankar Jena | MacOS Catalina 10.15.7 | 4GB | 1.4 GHz Dual-Core Intel Core i5 | Yes | 12m 58s |"
   ]
  },
  {
   "cell_type": "markdown",
   "id": "6a0e2946-e346-42b1-8180-130b935c3468",
   "metadata": {},
   "source": [
    "## 5. Load the combined CSV to memory and perform a simple EDA"
   ]
  },
  {
   "cell_type": "markdown",
   "id": "278e05b6-562a-4b27-b9e5-f61b74e05f23",
   "metadata": {},
   "source": [
    "### 5.1 Investigating 2 approaches to reduce memory usage while performing the EDA"
   ]
  },
  {
   "cell_type": "markdown",
   "id": "809aef67-ea6a-42f8-a7de-2f65df261566",
   "metadata": {},
   "source": [
    "#### Loading the whole data and performing EDA"
   ]
  },
  {
   "cell_type": "code",
   "execution_count": null,
   "id": "032e86f8-5fa0-4b82-9952-cbe4c66d1a9c",
   "metadata": {},
   "outputs": [],
   "source": [
    "# Loading data (Pandas)\n",
    "%%time\n",
    "\n",
    "df_combined = pd.read_csv(\n",
    "    \"figsharerainfall/combined_data.csv\", \n",
    "    index_col=0,\n",
    "    parse_dates=True \n",
    ")"
   ]
  },
  {
   "cell_type": "markdown",
   "id": "a463d19f-2146-45e7-8622-679b3caa7f0d",
   "metadata": {},
   "source": [
    "> Combining Data Comparison\n",
    "\n",
    "| Team Member | Operating System | RAM | Processor | Is SSD | Time taken |\n",
    "|:-----------:|:----------------:|:---:|:---------:|:------:|:----------:|\n",
    "| Adam Morphy | MacOS Big Sur | 8GB | 1.8 GHz Dual-Core Intel Core i5 | Yes | |\n",
    "| Mukund Iyer | MacOS Monterey | 8GB | 1.4 GHz Quad-Core Intel Core i5 | Yes | |\n",
    "| Julien Gordon | Ubuntu 20.04.4 LTS | 16GB | AMD® Ryzen 7 5800h with radeon graphics | Yes | |\n",
    "| Shiva Shankar Jena | MacOS Catalina 10.15.7 | 4GB | 1.4 GHz Dual-Core Intel Core i5 | Yes | 3m 53s|"
   ]
  },
  {
   "cell_type": "code",
   "execution_count": null,
   "id": "ee146b0f-ffef-4f52-a915-df015188bd4a",
   "metadata": {},
   "outputs": [],
   "source": [
    "# Simple EDA (Pandas)\n",
    "\n",
    "%%time\n",
    "\n",
    "df_combined.model.value_counts()"
   ]
  },
  {
   "cell_type": "markdown",
   "id": "8c839222-62ce-4065-a18c-38812eb10697",
   "metadata": {},
   "source": [
    "> Performing a simple EDA\n",
    "\n",
    "| Team Member | Operating System | RAM | Processor | Is SSD | Time taken |\n",
    "|:-----------:|:----------------:|:---:|:---------:|:------:|:----------:|\n",
    "| Adam Morphy | MacOS Big Sur | 8GB | 1.8 GHz Dual-Core Intel Core i5 | Yes | |\n",
    "| Mukund Iyer | MacOS Monterey | 8GB | 1.4 GHz Quad-Core Intel Core i5 | Yes | |\n",
    "| Julien Gordon | Ubuntu 20.04.4 LTS | 16GB | AMD® Ryzen 7 5800h with radeon graphics | Yes | |\n",
    "| Shiva Shankar Jena | MacOS Catalina 10.15.7 | 4GB | 1.4 GHz Dual-Core Intel Core i5 | Yes | 5.99s |"
   ]
  },
  {
   "cell_type": "markdown",
   "id": "d217da25-a380-41b9-a215-738caa8f0254",
   "metadata": {},
   "source": [
    "### 5.1.1 Approach 1 to reduce memory usage: Changing dtype"
   ]
  },
  {
   "cell_type": "code",
   "execution_count": null,
   "id": "508e3bf4-2564-4365-b3b8-f3b9961af35a",
   "metadata": {},
   "outputs": [],
   "source": [
    "df_combined.dtypes"
   ]
  },
  {
   "cell_type": "code",
   "execution_count": null,
   "id": "5ff62450-4cdd-48e1-b2bb-1bd74dbbd52e",
   "metadata": {},
   "outputs": [],
   "source": [
    "print(f\"Memory usage with float64: {df_combined[['lat_min', 'lat_max','lon_min', 'lon_max', 'rain (mm/day)']].memory_usage().sum() / 1e6:.2f} MB\")\n",
    "print(f\"Memory usage with float32: {df_combined[['lat_min', 'lat_max','lon_min', 'lon_max', 'rain (mm/day)']].astype('float32', errors='ignore').memory_usage().sum() / 1e6:.2f} MB\")"
   ]
  },
  {
   "cell_type": "code",
   "execution_count": null,
   "id": "21836f54-7e38-4b6e-ad1f-5eb5a9ccf62c",
   "metadata": {},
   "outputs": [],
   "source": [
    "%%time\n",
    "df_combined_float32 = df_combined[['lat_min', 'lat_max','lon_min', 'lon_max', 'rain (mm/day)']].astype('float32', errors='ignore')"
   ]
  },
  {
   "cell_type": "markdown",
   "id": "5217a249-8c23-4ab0-bf77-841c145a5bef",
   "metadata": {},
   "source": [
    "### 5.1.2 Approach 2 to reduce memory usage: loading in chunks"
   ]
  },
  {
   "cell_type": "code",
   "execution_count": null,
   "id": "cd3a7bce-e539-48b5-8609-c306e132edec",
   "metadata": {},
   "outputs": [],
   "source": [
    "%%time\n",
    "\n",
    "# Doing EDA with only chunks of data\n",
    "counts=pd.Series(dtype=int)\n",
    "for chunk in pd.read_csv(\n",
    "    \"figsharerainfall/combined_data.csv\",\n",
    "    parse_dates=True,\n",
    "    chunksize=1_000_000\n",
    "):\n",
    "    counts=counts.add(chunk.model.value_counts(), fill_value=0)\n",
    "\n",
    "print(counts.astype(int))"
   ]
  },
  {
   "cell_type": "markdown",
   "id": "16ffd22d-6864-4fea-8c52-f69f81920829",
   "metadata": {},
   "source": [
    "> Loading data and performing a simple EDA with reduced memory usage (minimum out of 2 approaches)\n",
    "\n",
    "| Team Member | Operating System | RAM | Processor | Is SSD | Time taken |\n",
    "|:-----------:|:----------------:|:---:|:---------:|:------:|:----------:|\n",
    "| Adam Morphy | MacOS Big Sur | 8GB | 1.8 GHz Dual-Core Intel Core i5 | Yes | |\n",
    "| Mukund Iyer | MacOS Monterey | 8GB | 1.4 GHz Quad-Core Intel Core i5 | Yes | |\n",
    "| Julien Gordon | Ubuntu 20.04.4 LTS | 16GB | AMD® Ryzen 7 5800h with radeon graphics | Yes | |\n",
    "| Shiva Shankar Jena | MacOS Catalina 10.15.7 | 4GB | 1.4 GHz Dual-Core Intel Core i5 | Yes | 1m 45s |"
   ]
  },
  {
   "cell_type": "markdown",
   "id": "32edbc70-5ad3-4d1a-8730-83ef71663e89",
   "metadata": {},
   "source": [
    "## 6. Perform a simple EDA in R"
   ]
  },
  {
   "cell_type": "markdown",
   "id": "eedfcbc9-10f1-46f0-bba8-ecd28e20373c",
   "metadata": {},
   "source": [
    "### 6.1 Approaches to transfer the dataframe from python to R"
   ]
  },
  {
   "cell_type": "markdown",
   "id": "6ab98506-2a3e-4803-9b69-42110c353d3d",
   "metadata": {},
   "source": [
    "We tried different approaches for data transfer to compare time taken."
   ]
  },
  {
   "cell_type": "markdown",
   "id": "36b4707d-d863-4340-89e4-430d830a7c73",
   "metadata": {
    "tags": []
   },
   "source": [
    "#### 6.1.1 Parquet file"
   ]
  },
  {
   "cell_type": "code",
   "execution_count": null,
   "id": "d0140a7e-9a72-4af1-9634-59176d90903f",
   "metadata": {},
   "outputs": [],
   "source": [
    "# Using pandas\n",
    "df_combined.to_parquet(\"figsharerainfall/combined_data_partition.parquet\")"
   ]
  },
  {
   "cell_type": "code",
   "execution_count": null,
   "id": "b76a1fdd-707f-4fec-befb-137050782bc3",
   "metadata": {},
   "outputs": [],
   "source": [
    "%load_ext rpy2.ipython"
   ]
  },
  {
   "cell_type": "code",
   "execution_count": null,
   "id": "946274a6-89e0-44a0-9952-e293f69c727d",
   "metadata": {},
   "outputs": [],
   "source": [
    "import rpy2_arrow.pyarrow_rarrow as pyra"
   ]
  },
  {
   "cell_type": "code",
   "execution_count": null,
   "id": "382350db-2889-43f8-a840-ef707bbed282",
   "metadata": {},
   "outputs": [],
   "source": [
    "%%R\n",
    "suppressMessages(library(arrow, warn.conflicts = FALSE))\n",
    "suppressMessages(library(dplyr, warn.conflicts = FALSE))"
   ]
  },
  {
   "cell_type": "code",
   "execution_count": null,
   "id": "4252d929-d1d5-474d-b29a-d9a0c0596a8e",
   "metadata": {},
   "outputs": [],
   "source": [
    "%%time\n",
    "%%R\n",
    "ds_rainfall <- open_dataset(\"figsharerainfall/combined_data_partition.parquet\")"
   ]
  },
  {
   "cell_type": "code",
   "execution_count": null,
   "id": "1efcfb96-a22a-4015-b6ee-c6b64949a322",
   "metadata": {},
   "outputs": [],
   "source": [
    "%%time\n",
    "%%R\n",
    "query <- ds_rainfall %>%\n",
    "    select(model) %>%\n",
    "    group_by(model) %>%\n",
    "    summarise(\n",
    "        count = n()\n",
    "    )"
   ]
  },
  {
   "cell_type": "code",
   "execution_count": null,
   "id": "e6e2600c-b6aa-455a-b3c6-162038b0b47c",
   "metadata": {},
   "outputs": [],
   "source": [
    "%%time\n",
    "%%R\n",
    "print(query %>% collect())"
   ]
  },
  {
   "cell_type": "markdown",
   "id": "862b661d-ffad-466c-a52e-47da88c2a7dc",
   "metadata": {},
   "source": [
    "> Comparison of Loading data and EDA time in R using parquet file\n",
    "\n",
    "| Team Member | Operating System | RAM | Processor | Is SSD | Time taken | Method |\n",
    "|:-----------:|:----------------:|:---:|:---------:|:------:|:----------:|:----------:|\n",
    "| Adam Morphy | MacOS Big Sur | 8GB | 1.8 GHz Dual-Core Intel Core i5 | Yes | | |\n",
    "| Mukund Iyer | MacOS Monterey | 8GB | 1.4 GHz Quad-Core Intel Core i5 | Yes | | |\n",
    "| Julien Gordon | Ubuntu 20.04.4 LTS | 16GB | AMD® Ryzen 7 5800h with radeon graphics | Yes | | |\n",
    "| Shiva Shankar Jena | MacOS Catalina 10.15.7 | 4GB | 1.4 GHz Dual-Core Intel Core i5 | Yes | 10s | Parquet file |"
   ]
  },
  {
   "cell_type": "markdown",
   "id": "7e2711fb-a6e9-4b93-9be0-c28124cf4b96",
   "metadata": {},
   "source": [
    "### 6.2 Reasons for choosing the approaches"
   ]
  },
  {
   "cell_type": "markdown",
   "id": "60b7033e-5125-4bbe-9c10-5fd4a306cfd6",
   "metadata": {},
   "source": [
    "1. Parquet file: The primary advantages of parquet file approach, apart from its hybrid file format for use in multiple languages, was that it lead to significantly reduced memory usage(539.6 MB compared to the 8 GB combined CSV file) as well as speed leveraging the power of efficient compression and encoding techniques of Arrow as well as the lazy evaluation benefits of R. The method proved immensely efficient."
   ]
  },
  {
   "cell_type": "code",
   "execution_count": null,
   "id": "6567cb47-8f59-4f03-a0b8-aee8a5c49cec",
   "metadata": {},
   "outputs": [],
   "source": []
  }
 ],
 "metadata": {
  "kernelspec": {
   "display_name": "Python [conda env:525_2022]",
   "language": "python",
   "name": "conda-env-525_2022-py"
  },
  "language_info": {
   "codemirror_mode": {
    "name": "ipython",
    "version": 3
   },
   "file_extension": ".py",
   "mimetype": "text/x-python",
   "name": "python",
   "nbconvert_exporter": "python",
   "pygments_lexer": "ipython3",
   "version": "3.8.6"
  }
 },
 "nbformat": 4,
 "nbformat_minor": 5
}

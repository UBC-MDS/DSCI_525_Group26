{
 "cells": [
  {
   "cell_type": "markdown",
   "id": "470a1ec8-32b7-4e70-8d07-76f878527b7d",
   "metadata": {},
   "source": [
    "# Milestone 1 Notebook"
   ]
  },
  {
   "cell_type": "markdown",
   "id": "4727891d-4be6-4c58-8db2-65c6b9500834",
   "metadata": {},
   "source": [
    "#### Authors: Julien Gordon, Adam Morphy, Mukund Iyer, Shiva Shankar Jena"
   ]
  },
  {
   "cell_type": "markdown",
   "id": "46fba66e-17cd-4249-b1bd-a285f634db86",
   "metadata": {},
   "source": [
    "## Questions 1. and 2.\n",
    "\n",
    "#### Link to Team Contract: https://docs.google.com/document/d/1uDSQLGPSfcgl3PisaC1-ngaViqJCkBiWFmDsN2FzZ9w/edit?usp=sharing\n",
    "#### Link ot Repo: https://github.com/UBC-MDS/DSCI_525_Group26"
   ]
  },
  {
   "cell_type": "markdown",
   "id": "41c188a3-dd86-4253-9ca3-b3682c35144c",
   "metadata": {},
   "source": [
    "## 3. Data Download"
   ]
  },
  {
   "cell_type": "code",
   "execution_count": 3,
   "id": "e6eed901-b0d5-497d-ad4d-e928b52f131d",
   "metadata": {},
   "outputs": [],
   "source": [
    "import re\n",
    "import os\n",
    "import glob\n",
    "import zipfile\n",
    "import requests\n",
    "from urllib.request import urlretrieve\n",
    "import json\n",
    "import pandas as pd"
   ]
  },
  {
   "cell_type": "code",
   "execution_count": 5,
   "id": "4360720a-7615-44bc-acfa-e366ab0594a6",
   "metadata": {},
   "outputs": [],
   "source": [
    "# Necessary metadata\n",
    "article_id = 14096681  # this is the unique identifier of the article on figshare\n",
    "url = f\"https://api.figshare.com/v2/articles/{article_id}\"\n",
    "headers = {\"Content-Type\": \"application/json\"}\n",
    "output_directory = \"../data/\"\n"
   ]
  },
  {
   "cell_type": "code",
   "execution_count": 6,
   "id": "fc6e0780-b10c-493f-934b-c7993c825b83",
   "metadata": {},
   "outputs": [
    {
     "name": "stdout",
     "output_type": "stream",
     "text": [
      "CPU times: user 26.2 ms, sys: 16.1 ms, total: 42.3 ms\n",
      "Wall time: 909 ms\n"
     ]
    },
    {
     "data": {
      "text/plain": [
       "[{'id': 26579150,\n",
       "  'name': 'daily_rainfall_2014.png',\n",
       "  'size': 58863,\n",
       "  'is_link_only': False,\n",
       "  'download_url': 'https://ndownloader.figshare.com/files/26579150',\n",
       "  'supplied_md5': 'fd32a2ffde300a31f8d63b1825d47e5e',\n",
       "  'computed_md5': 'fd32a2ffde300a31f8d63b1825d47e5e'},\n",
       " {'id': 26579171,\n",
       "  'name': 'environment.yml',\n",
       "  'size': 192,\n",
       "  'is_link_only': False,\n",
       "  'download_url': 'https://ndownloader.figshare.com/files/26579171',\n",
       "  'supplied_md5': '060b2020017eed93a1ee7dd8c65b2f34',\n",
       "  'computed_md5': '060b2020017eed93a1ee7dd8c65b2f34'},\n",
       " {'id': 26586554,\n",
       "  'name': 'README.md',\n",
       "  'size': 5422,\n",
       "  'is_link_only': False,\n",
       "  'download_url': 'https://ndownloader.figshare.com/files/26586554',\n",
       "  'supplied_md5': '61858c6cc0e6a6d6663a7e4c75bbd88c',\n",
       "  'computed_md5': '61858c6cc0e6a6d6663a7e4c75bbd88c'},\n",
       " {'id': 26766812,\n",
       "  'name': 'data.zip',\n",
       "  'size': 814041183,\n",
       "  'is_link_only': False,\n",
       "  'download_url': 'https://ndownloader.figshare.com/files/26766812',\n",
       "  'supplied_md5': 'b517383f76e77bd03755a63a8ff83ee9',\n",
       "  'computed_md5': 'b517383f76e77bd03755a63a8ff83ee9'},\n",
       " {'id': 26766815,\n",
       "  'name': 'get_data.py',\n",
       "  'size': 4113,\n",
       "  'is_link_only': False,\n",
       "  'download_url': 'https://ndownloader.figshare.com/files/26766815',\n",
       "  'supplied_md5': '7829028495fd9dec9680ea013474afa6',\n",
       "  'computed_md5': '7829028495fd9dec9680ea013474afa6'}]"
      ]
     },
     "execution_count": 6,
     "metadata": {},
     "output_type": "execute_result"
    }
   ],
   "source": [
    "%%time \n",
    "response = requests.request(\"GET\", url, headers=headers)\n",
    "data = json.loads(response.text)  # this contains all the articles data, feel free to check it out\n",
    "files = data[\"files\"]             # this is just the data about the files, which is what we want\n",
    "files"
   ]
  },
  {
   "cell_type": "code",
   "execution_count": 7,
   "id": "4cc071e7-9ee8-496f-92b7-d6f85409d145",
   "metadata": {},
   "outputs": [
    {
     "name": "stdout",
     "output_type": "stream",
     "text": [
      "CPU times: user 3.94 s, sys: 4.43 s, total: 8.37 s\n",
      "Wall time: 4min 18s\n"
     ]
    }
   ],
   "source": [
    "%%time\n",
    "files_to_dl = [\"data.zip\"]  # feel free to add other files here\n",
    "for file in files:\n",
    "    if file[\"name\"] in files_to_dl:\n",
    "        os.makedirs(output_directory, exist_ok=True)\n",
    "        urlretrieve(file[\"download_url\"], output_directory + file[\"name\"])"
   ]
  },
  {
   "cell_type": "code",
   "execution_count": 9,
   "id": "b7806de3-e8f1-47ad-90d4-273f1a09ea00",
   "metadata": {},
   "outputs": [
    {
     "name": "stdout",
     "output_type": "stream",
     "text": [
      "CPU times: user 19.6 s, sys: 6.09 s, total: 25.7 s\n",
      "Wall time: 32.9 s\n"
     ]
    }
   ],
   "source": [
    "%%time\n",
    "with zipfile.ZipFile(os.path.join(output_directory, \"data.zip\"), 'r') as f:\n",
    "    f.extractall(output_directory)"
   ]
  },
  {
   "cell_type": "markdown",
   "id": "d0f35fa0-83ce-41a6-af7b-acde0e236a21",
   "metadata": {},
   "source": [
    "> Data Download Comparison\n",
    "\n",
    "| Team Member | Operating System | RAM | Processor | Is SSD | Time taken |\n",
    "|:-----------:|:----------------:|:---:|:---------:|:------:|:----------:|\n",
    "| Adam Morphy | MacOS Big Sur | 8GB | 1.8 GHz Dual-Core Intel Core i5 | Yes | |\n",
    "| Mukund Iyer | MacOS Monterey | 8GB | 1.4 GHz Quad-Core Intel Core i5 | Yes | 258s |\n",
    "| Julien Gordon | Ubuntu 20.04.4 LTS | 16GB | AMD® Ryzen 7 5800h with radeon graphics | Yes | |\n",
    "| Shiva Shankar Jena | MacOS Catalina 10.15.7 | 4GB | 1.4 GHz Dual-Core Intel Core i5 | Yes | |"
   ]
  },
  {
   "cell_type": "markdown",
   "id": "ffe91f57-5b49-4646-a74a-752a7c594565",
   "metadata": {
    "tags": []
   },
   "source": [
    "## 4. Combining data CSVs"
   ]
  },
  {
   "cell_type": "code",
   "execution_count": 10,
   "id": "77bce603-74d2-4cc5-b216-d40a2d9d8713",
   "metadata": {},
   "outputs": [
    {
     "name": "stdout",
     "output_type": "stream",
     "text": [
      "CPU times: user 7min 8s, sys: 42.1 s, total: 7min 51s\n",
      "Wall time: 8min 20s\n"
     ]
    }
   ],
   "source": [
    "%%time\n",
    "files = glob.glob('data/*.csv')\n",
    "df = pd.concat((pd.read_csv(file, index_col=0)\n",
    "                .assign(model=re.findall(r'[^\\/]+?(?=_)', file)[0])\n",
    "                for file in files)\n",
    "              )\n",
    "df.to_csv(\"data/combined_data.csv\")\n"
   ]
  },
  {
   "cell_type": "code",
   "execution_count": 5,
   "id": "c50703ad-b0f6-4a42-9c76-5180903fcd2b",
   "metadata": {},
   "outputs": [],
   "source": [
    "df = pd.read_csv('data/combined_data.csv')"
   ]
  },
  {
   "cell_type": "code",
   "execution_count": 1,
   "id": "bb79c6ce-33c2-4f9f-bf49-d3a996278e68",
   "metadata": {},
   "outputs": [
    {
     "name": "stdout",
     "output_type": "stream",
     "text": [
      "5.6G\tdata/combined_data.csv\n"
     ]
    }
   ],
   "source": [
    "%%sh\n",
    "du -sh data/combined_data.csv\n"
   ]
  },
  {
   "cell_type": "code",
   "execution_count": 6,
   "id": "724f1112-c11c-4347-b4c1-5bb8fb4c7937",
   "metadata": {},
   "outputs": [
    {
     "name": "stdout",
     "output_type": "stream",
     "text": [
      "(62467843, 7)\n"
     ]
    }
   ],
   "source": [
    "print(df.shape)"
   ]
  },
  {
   "cell_type": "code",
   "execution_count": 7,
   "id": "6072878a-c097-45d3-9980-56c49e43e3a3",
   "metadata": {},
   "outputs": [
    {
     "data": {
      "text/html": [
       "<div>\n",
       "<style scoped>\n",
       "    .dataframe tbody tr th:only-of-type {\n",
       "        vertical-align: middle;\n",
       "    }\n",
       "\n",
       "    .dataframe tbody tr th {\n",
       "        vertical-align: top;\n",
       "    }\n",
       "\n",
       "    .dataframe thead th {\n",
       "        text-align: right;\n",
       "    }\n",
       "</style>\n",
       "<table border=\"1\" class=\"dataframe\">\n",
       "  <thead>\n",
       "    <tr style=\"text-align: right;\">\n",
       "      <th></th>\n",
       "      <th>time</th>\n",
       "      <th>lat_min</th>\n",
       "      <th>lat_max</th>\n",
       "      <th>lon_min</th>\n",
       "      <th>lon_max</th>\n",
       "      <th>rain (mm/day)</th>\n",
       "      <th>model</th>\n",
       "    </tr>\n",
       "  </thead>\n",
       "  <tbody>\n",
       "    <tr>\n",
       "      <th>0</th>\n",
       "      <td>1889-01-01 12:00:00</td>\n",
       "      <td>-35.439867</td>\n",
       "      <td>-33.574619</td>\n",
       "      <td>141.5625</td>\n",
       "      <td>143.4375</td>\n",
       "      <td>4.244226e-13</td>\n",
       "      <td>MPI-ESM-1-2-HAM</td>\n",
       "    </tr>\n",
       "    <tr>\n",
       "      <th>1</th>\n",
       "      <td>1889-01-02 12:00:00</td>\n",
       "      <td>-35.439867</td>\n",
       "      <td>-33.574619</td>\n",
       "      <td>141.5625</td>\n",
       "      <td>143.4375</td>\n",
       "      <td>4.217326e-13</td>\n",
       "      <td>MPI-ESM-1-2-HAM</td>\n",
       "    </tr>\n",
       "    <tr>\n",
       "      <th>2</th>\n",
       "      <td>1889-01-03 12:00:00</td>\n",
       "      <td>-35.439867</td>\n",
       "      <td>-33.574619</td>\n",
       "      <td>141.5625</td>\n",
       "      <td>143.4375</td>\n",
       "      <td>4.498125e-13</td>\n",
       "      <td>MPI-ESM-1-2-HAM</td>\n",
       "    </tr>\n",
       "    <tr>\n",
       "      <th>3</th>\n",
       "      <td>1889-01-04 12:00:00</td>\n",
       "      <td>-35.439867</td>\n",
       "      <td>-33.574619</td>\n",
       "      <td>141.5625</td>\n",
       "      <td>143.4375</td>\n",
       "      <td>4.251282e-13</td>\n",
       "      <td>MPI-ESM-1-2-HAM</td>\n",
       "    </tr>\n",
       "    <tr>\n",
       "      <th>4</th>\n",
       "      <td>1889-01-05 12:00:00</td>\n",
       "      <td>-35.439867</td>\n",
       "      <td>-33.574619</td>\n",
       "      <td>141.5625</td>\n",
       "      <td>143.4375</td>\n",
       "      <td>4.270161e-13</td>\n",
       "      <td>MPI-ESM-1-2-HAM</td>\n",
       "    </tr>\n",
       "  </tbody>\n",
       "</table>\n",
       "</div>"
      ],
      "text/plain": [
       "                  time    lat_min    lat_max   lon_min   lon_max  \\\n",
       "0  1889-01-01 12:00:00 -35.439867 -33.574619  141.5625  143.4375   \n",
       "1  1889-01-02 12:00:00 -35.439867 -33.574619  141.5625  143.4375   \n",
       "2  1889-01-03 12:00:00 -35.439867 -33.574619  141.5625  143.4375   \n",
       "3  1889-01-04 12:00:00 -35.439867 -33.574619  141.5625  143.4375   \n",
       "4  1889-01-05 12:00:00 -35.439867 -33.574619  141.5625  143.4375   \n",
       "\n",
       "   rain (mm/day)            model  \n",
       "0   4.244226e-13  MPI-ESM-1-2-HAM  \n",
       "1   4.217326e-13  MPI-ESM-1-2-HAM  \n",
       "2   4.498125e-13  MPI-ESM-1-2-HAM  \n",
       "3   4.251282e-13  MPI-ESM-1-2-HAM  \n",
       "4   4.270161e-13  MPI-ESM-1-2-HAM  "
      ]
     },
     "execution_count": 7,
     "metadata": {},
     "output_type": "execute_result"
    }
   ],
   "source": [
    "df.head()"
   ]
  },
  {
   "cell_type": "markdown",
   "id": "6e866b85-9da5-4158-a4ce-f19b18e860de",
   "metadata": {},
   "source": [
    "> Combining Data Comparison\n",
    "\n",
    "| Team Member | Operating System | RAM | Processor | Is SSD | Time taken |\n",
    "|:-----------:|:----------------:|:---:|:---------:|:------:|:----------:|\n",
    "| Adam Morphy | MacOS Big Sur | 8GB | 1.8 GHz Dual-Core Intel Core i5 | Yes | |\n",
    "| Mukund Iyer | MacOS Monterey | 8GB | 1.4 GHz Quad-Core Intel Core i5 | Yes | 500 s |\n",
    "| Julien Gordon | Ubuntu 20.04.4 LTS | 16GB | AMD® Ryzen 7 5800h with radeon graphics | Yes | |\n",
    "| Shiva Shankar Jena | MacOS Catalina 10.15.7 | 4GB | 1.4 GHz Dual-Core Intel Core i5 | Yes | |"
   ]
  },
  {
   "cell_type": "markdown",
   "id": "6a0e2946-e346-42b1-8180-130b935c3468",
   "metadata": {},
   "source": [
    "## 5. Load the combined CSV to memory and perform a simple EDA"
   ]
  },
  {
   "cell_type": "markdown",
   "id": "a44f1567-5984-4cbe-9661-e19304427a56",
   "metadata": {},
   "source": [
    "> Combining Data Comparison\n",
    "\n",
    "| Team Member | Operating System | RAM | Processor | Is SSD | Time taken |\n",
    "|:-----------:|:----------------:|:---:|:---------:|:------:|:----------:|\n",
    "| Adam Morphy | MacOS Big Sur | 8GB | 1.8 GHz Dual-Core Intel Core i5 | Yes | |\n",
    "| Mukund Iyer | MacOS Monterey | 8GB | 1.4 GHz Quad-Core Intel Core i5 | Yes | |\n",
    "| Julien Gordon | Ubuntu 20.04.4 LTS | 16GB | AMD® Ryzen 7 5800h with radeon graphics | Yes | |\n",
    "| Shiva Shankar Jena | MacOS Catalina 10.15.7 | 4GB | 1.4 GHz Dual-Core Intel Core i5 | Yes | |"
   ]
  },
  {
   "cell_type": "markdown",
   "id": "32edbc70-5ad3-4d1a-8730-83ef71663e89",
   "metadata": {},
   "source": [
    "## 6. Perform a simple EDA in R"
   ]
  },
  {
   "cell_type": "markdown",
   "id": "7fc6f6b2-8907-4eed-a16b-176d7f43b38d",
   "metadata": {},
   "source": [
    "File format selected: Arrow Exchange\n",
    "\n",
    "Reasons for using arrow: \n",
    "\n",
    "- Apache Arrow is a cross-language development platform for in-memory data. Here are certain properties of arrow;\n",
    "\n",
    "- Whenever possible, it will read and process data in chunks and in parallel (default behavior, so you don’t want to worry about manually doing it)\n",
    "\n",
    "- Columnar Memory Format\n",
    "\n",
    "- Language-independent\n",
    "\n",
    "- Zero-copy Reads\n",
    "\n",
    "- Minimum Serialization"
   ]
  },
  {
   "cell_type": "code",
   "execution_count": 8,
   "id": "2530a8a8-9275-40ca-bc42-b303318485b1",
   "metadata": {},
   "outputs": [],
   "source": [
    "%load_ext rpy2.ipython"
   ]
  },
  {
   "cell_type": "code",
   "execution_count": 9,
   "id": "06eae3d6-0d1e-4a2a-a886-207ca363066e",
   "metadata": {},
   "outputs": [],
   "source": [
    "#importing libraries needed to use Arrow:\n",
    "\n",
    "import pyarrow.dataset as ds\n",
    "import pyarrow as pa\n",
    "import pandas as pd\n",
    "import pyarrow \n",
    "from pyarrow import csv\n",
    "import rpy2_arrow.pyarrow_rarrow as pyra"
   ]
  },
  {
   "cell_type": "markdown",
   "id": "f50b310f-dfa1-4b33-a699-baef93283fb7",
   "metadata": {},
   "source": [
    "#### Creating the arrow object for R "
   ]
  },
  {
   "cell_type": "code",
   "execution_count": 21,
   "id": "2bbd4001-0799-433d-86b7-bb5b46455eff",
   "metadata": {},
   "outputs": [
    {
     "name": "stdout",
     "output_type": "stream",
     "text": [
      "CPU times: user 48.8 s, sys: 4.97 s, total: 53.8 s\n",
      "Wall time: 51.3 s\n"
     ]
    }
   ],
   "source": [
    "%%time\n",
    "#loading data as pyarrow dataset\n",
    "dataset = ds.dataset(\"data/combined_data.csv\", format=\"csv\")\n",
    "\n",
    "#converting to pyarrow table\n",
    "table = dataset.to_table()\n",
    "\n",
    "#converting to rarrow table\n",
    "r_table = pyra.converter.py2rpy(table)"
   ]
  },
  {
   "cell_type": "code",
   "execution_count": 22,
   "id": "8f315b89-9d2a-4d8f-98bb-7cba0647e002",
   "metadata": {},
   "outputs": [],
   "source": [
    "%%R\n",
    "suppressMessages(library(arrow, warn.conflicts = FALSE))\n",
    "suppressMessages(library(dplyr, warn.conflicts = FALSE))\n",
    "if (!require(ggplot2)) install.packages(\"ggplot2\")\n",
    "suppressMessages(library(ggplot2, warn.conflicts = FALSE))"
   ]
  },
  {
   "cell_type": "code",
   "execution_count": 23,
   "id": "19847b68-d7f3-4c3e-94fd-63f8c4bd9450",
   "metadata": {},
   "outputs": [
    {
     "data": {
      "text/plain": [
       "<rpy2.robjects.environments.Environment object at 0x7faec07ba600> [RTYPES.ENVSXP]\n",
       "R classes: ('Table', 'ArrowTabular', 'ArrowObject', 'R6')\n",
       "n items: 36"
      ]
     },
     "execution_count": 23,
     "metadata": {},
     "output_type": "execute_result"
    }
   ],
   "source": [
    "r_table"
   ]
  },
  {
   "cell_type": "markdown",
   "id": "e6de4f62-d8f9-4edc-bb4d-aa8621e39420",
   "metadata": {},
   "source": [
    "#### Rain time series for a selected time interval and model "
   ]
  },
  {
   "cell_type": "code",
   "execution_count": 85,
   "id": "d6db41b2-e071-4ad2-846f-30b65d237d1e",
   "metadata": {},
   "outputs": [],
   "source": [
    "%%R\n",
    "\n",
    "start_date = as.POSIXct(strptime(\"2013-01-01 04:00:00\", \"%Y-%m-%d %H:%M:%S\"))\n",
    "end_date = as.POSIXct(strptime(\"2013-01-20 04:00:00\", \"%Y-%m-%d %H:%M:%S\"))\n",
    "model_sel = 'ACCESS-CM2'"
   ]
  },
  {
   "cell_type": "code",
   "execution_count": 89,
   "id": "0d7e2ab5-8bcc-41ed-9df5-61562577cafe",
   "metadata": {},
   "outputs": [
    {
     "name": "stdout",
     "output_type": "stream",
     "text": [
      "# A tibble: 756 × 3\n",
      "   time                       rain model     \n",
      "   <dttm>                    <dbl> <chr>     \n",
      " 1 2013-01-02 04:00:00  0.338      ACCESS-CM2\n",
      " 2 2013-01-03 04:00:00  0.00381    ACCESS-CM2\n",
      " 3 2013-01-04 04:00:00  0.00000393 ACCESS-CM2\n",
      " 4 2013-01-05 04:00:00  0.744      ACCESS-CM2\n",
      " 5 2013-01-06 04:00:00  0.0237     ACCESS-CM2\n",
      " 6 2013-01-07 04:00:00  1.78       ACCESS-CM2\n",
      " 7 2013-01-08 04:00:00  0.00252    ACCESS-CM2\n",
      " 8 2013-01-09 04:00:00  0.00799    ACCESS-CM2\n",
      " 9 2013-01-10 04:00:00 12.0        ACCESS-CM2\n",
      "10 2013-01-11 04:00:00 36.2        ACCESS-CM2\n",
      "# … with 746 more rows\n",
      "CPU times: user 1.68 s, sys: 167 ms, total: 1.84 s\n",
      "Wall time: 382 ms\n"
     ]
    }
   ],
   "source": [
    "%%time\n",
    "%%R -i r_table\n",
    "\n",
    "result <- r_table %>%\n",
    "filter(model == model_sel, time > start_date, time < end_date) %>% \n",
    "mutate(rain = `rain (mm/day)`) %>% \n",
    "select(time, rain, model) %>% \n",
    "collect()\n",
    "\n",
    "print(result)"
   ]
  },
  {
   "cell_type": "code",
   "execution_count": 92,
   "id": "a97ba959-6593-4958-9187-ebf0c811cd02",
   "metadata": {},
   "outputs": [
    {
     "data": {
      "image/png": "[encoded data removed]"
     },
     "metadata": {},
     "output_type": "display_data"
    }
   ],
   "source": [
    "%%R\n",
    "\n",
    "\n",
    "plot <- ggplot(result, aes(x=time, y=rain)) + \n",
    "geom_point() + \n",
    "labs(x='Date', \n",
    "     y='Rain (mm/day)',\n",
    "     title = 'Rain for ACCESS-CM2')\n",
    "plot"
   ]
  },
  {
   "cell_type": "code",
   "execution_count": null,
   "id": "57f4be3b-892e-4b2f-9c36-d181bb521451",
   "metadata": {},
   "outputs": [],
   "source": [
    "%%R\n",
    "\n",
    "ggsave(plot"
   ]
  },
  {
   "cell_type": "markdown",
   "id": "862b661d-ffad-466c-a52e-47da88c2a7dc",
   "metadata": {},
   "source": [
    "> Combining Data Comparison\n",
    "\n",
    "| Team Member | Operating System | RAM | Processor | Is SSD | Time taken |\n",
    "|:-----------:|:----------------:|:---:|:---------:|:------:|:----------:|\n",
    "| Adam Morphy | MacOS Big Sur | 8GB | 1.8 GHz Dual-Core Intel Core i5 | Yes | |\n",
    "| Mukund Iyer | MacOS Monterey | 8GB | 1.4 GHz Quad-Core Intel Core i5 | Yes | |\n",
    "| Julien Gordon | Ubuntu 20.04.4 LTS | 16GB | AMD® Ryzen 7 5800h with radeon graphics | Yes | |\n",
    "| Shiva Shankar Jena | MacOS Catalina 10.15.7 | 4GB | 1.4 GHz Dual-Core Intel Core i5 | Yes | |"
   ]
  }
 ],
 "metadata": {
  "kernelspec": {
   "display_name": "Python [conda env:525_2022]",
   "language": "python",
   "name": "conda-env-525_2022-py"
  },
  "language_info": {
   "codemirror_mode": {
    "name": "ipython",
    "version": 3
   },
   "file_extension": ".py",
   "mimetype": "text/x-python",
   "name": "python",
   "nbconvert_exporter": "python",
   "pygments_lexer": "ipython3",
   "version": "3.8.6"
  }
 },
 "nbformat": 4,
 "nbformat_minor": 5
}

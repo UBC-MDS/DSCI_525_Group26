{
 "cells": [
  {
   "cell_type": "markdown",
   "id": "3011e988-8a0d-447b-bf5f-e40b965d0d9e",
   "metadata": {},
   "source": [
    "# 1. Imports"
   ]
  },
  {
   "cell_type": "code",
   "execution_count": 2,
   "id": "d6f1eaf2-3ae6-4b09-98e2-8fae2fa23e47",
   "metadata": {},
   "outputs": [],
   "source": [
    "import re\n",
    "import os\n",
    "import glob\n",
    "import zipfile\n",
    "import requests\n",
    "from urllib.request import urlretrieve\n",
    "import json\n",
    "import pandas as pd"
   ]
  },
  {
   "cell_type": "code",
   "execution_count": 2,
   "id": "f64702e8-ab3e-4f33-a8d3-a34874d6d3f2",
   "metadata": {},
   "outputs": [
    {
     "data": {
      "text/plain": [
       "'/Users/apple/MDS/block6/525/DSCI_525_Group26/notebooks'"
      ]
     },
     "execution_count": 2,
     "metadata": {},
     "output_type": "execute_result"
    }
   ],
   "source": [
    "%pwd"
   ]
  },
  {
   "cell_type": "markdown",
   "id": "82a30171-5edc-4429-89f9-448a9da41d5e",
   "metadata": {},
   "source": [
    "# 2. Downloading data"
   ]
  },
  {
   "cell_type": "code",
   "execution_count": 3,
   "id": "513065b1-645e-44db-8b94-f43779c83b8e",
   "metadata": {},
   "outputs": [
    {
     "name": "stdout",
     "output_type": "stream",
     "text": [
      "/Users/apple/MDS/block6/525/DSCI_525_Group26/notebooks\n"
     ]
    }
   ],
   "source": [
    "%cd /Users/apple/MDS/block6/525/DSCI_525_Group26/notebooks"
   ]
  },
  {
   "cell_type": "code",
   "execution_count": 4,
   "id": "4f0bbcaf-684c-4617-8d98-fbeb1f8e6fec",
   "metadata": {},
   "outputs": [],
   "source": [
    "# Necessary metadata\n",
    "article_id = 14096681  # this is the unique identifier of the article on figshare\n",
    "url = f\"https://api.figshare.com/v2/articles/{article_id}\"\n",
    "headers = {\"Content-Type\": \"application/json\"}\n",
    "output_directory = \"figsharerainfall/\""
   ]
  },
  {
   "cell_type": "code",
   "execution_count": 5,
   "id": "4428d159-832e-4a03-af09-95b6ee638230",
   "metadata": {},
   "outputs": [
    {
     "data": {
      "text/plain": [
       "[{'id': 26579150,\n",
       "  'name': 'daily_rainfall_2014.png',\n",
       "  'size': 58863,\n",
       "  'is_link_only': False,\n",
       "  'download_url': 'https://ndownloader.figshare.com/files/26579150',\n",
       "  'supplied_md5': 'fd32a2ffde300a31f8d63b1825d47e5e',\n",
       "  'computed_md5': 'fd32a2ffde300a31f8d63b1825d47e5e'},\n",
       " {'id': 26579171,\n",
       "  'name': 'environment.yml',\n",
       "  'size': 192,\n",
       "  'is_link_only': False,\n",
       "  'download_url': 'https://ndownloader.figshare.com/files/26579171',\n",
       "  'supplied_md5': '060b2020017eed93a1ee7dd8c65b2f34',\n",
       "  'computed_md5': '060b2020017eed93a1ee7dd8c65b2f34'},\n",
       " {'id': 26586554,\n",
       "  'name': 'README.md',\n",
       "  'size': 5422,\n",
       "  'is_link_only': False,\n",
       "  'download_url': 'https://ndownloader.figshare.com/files/26586554',\n",
       "  'supplied_md5': '61858c6cc0e6a6d6663a7e4c75bbd88c',\n",
       "  'computed_md5': '61858c6cc0e6a6d6663a7e4c75bbd88c'},\n",
       " {'id': 26766812,\n",
       "  'name': 'data.zip',\n",
       "  'size': 814041183,\n",
       "  'is_link_only': False,\n",
       "  'download_url': 'https://ndownloader.figshare.com/files/26766812',\n",
       "  'supplied_md5': 'b517383f76e77bd03755a63a8ff83ee9',\n",
       "  'computed_md5': 'b517383f76e77bd03755a63a8ff83ee9'},\n",
       " {'id': 26766815,\n",
       "  'name': 'get_data.py',\n",
       "  'size': 4113,\n",
       "  'is_link_only': False,\n",
       "  'download_url': 'https://ndownloader.figshare.com/files/26766815',\n",
       "  'supplied_md5': '7829028495fd9dec9680ea013474afa6',\n",
       "  'computed_md5': '7829028495fd9dec9680ea013474afa6'}]"
      ]
     },
     "execution_count": 5,
     "metadata": {},
     "output_type": "execute_result"
    }
   ],
   "source": [
    "response = requests.request(\"GET\", url, headers=headers)\n",
    "data = json.loads(response.text)  # this contains all the articles data\n",
    "files = data[\"files\"]             \n",
    "files"
   ]
  },
  {
   "cell_type": "markdown",
   "id": "e9954621-22fe-41ba-a53d-091eaaef1a90",
   "metadata": {},
   "source": [
    "## 2.1 Downloading zip file"
   ]
  },
  {
   "cell_type": "code",
   "execution_count": 8,
   "id": "a97c6b12-5ed3-42a3-b026-1cbcb14479b2",
   "metadata": {},
   "outputs": [
    {
     "name": "stdout",
     "output_type": "stream",
     "text": [
      "CPU times: user 6.45 s, sys: 5.4 s, total: 11.9 s\n",
      "Wall time: 1min 16s\n"
     ]
    }
   ],
   "source": [
    "%%time\n",
    "files_to_dl = [\"data.zip\"]  \n",
    "for file in files:\n",
    "    if file[\"name\"] in files_to_dl:\n",
    "        os.makedirs(output_directory, exist_ok=True)\n",
    "        urlretrieve(file[\"download_url\"], output_directory + file[\"name\"])"
   ]
  },
  {
   "cell_type": "markdown",
   "id": "078db882-310a-4df5-a627-048c5cf2a58f",
   "metadata": {},
   "source": [
    "## 2.2 Extracting the zip file"
   ]
  },
  {
   "cell_type": "code",
   "execution_count": 9,
   "id": "ed737173-bbe3-4c36-9156-5c407a3f8479",
   "metadata": {},
   "outputs": [
    {
     "name": "stdout",
     "output_type": "stream",
     "text": [
      "CPU times: user 31 s, sys: 7.2 s, total: 38.2 s\n",
      "Wall time: 1min 46s\n"
     ]
    }
   ],
   "source": [
    "%%time\n",
    "with zipfile.ZipFile(os.path.join(output_directory, \"data.zip\"), 'r') as f:\n",
    "    f.extractall(output_directory)"
   ]
  },
  {
   "cell_type": "code",
   "execution_count": 11,
   "id": "e839722b-82ae-453c-a453-b4c87c790b2e",
   "metadata": {},
   "outputs": [
    {
     "name": "stdout",
     "output_type": "stream",
     "text": [
      "total 12447120\n",
      "-rw-r--r--   1 apple  staff  814041183 Mar 29 15:08 data.zip\n",
      "-rw-r--r--   1 apple  staff   95376895 Mar 29 15:08 MPI-ESM-1-2-HAM_daily_rainfall_NSW.csv\n",
      "-rw-r--r--   1 apple  staff   94960113 Mar 29 15:08 AWI-ESM-1-1-LR_daily_rainfall_NSW.csv\n",
      "-rw-r--r--   1 apple  staff   82474546 Mar 29 15:08 NorESM2-LM_daily_rainfall_NSW.csv\n",
      "-rw-r--r--   1 apple  staff  127613760 Mar 29 15:08 ACCESS-CM2_daily_rainfall_NSW.csv\n",
      "-rw-r--r--   1 apple  staff  232118894 Mar 29 15:08 FGOALS-f3-L_daily_rainfall_NSW.csv\n",
      "-rw-r--r--   1 apple  staff  330360682 Mar 29 15:08 CMCC-CM2-HR4_daily_rainfall_NSW.csv\n",
      "-rw-r--r--   1 apple  staff  254009247 Mar 29 15:08 MRI-ESM2-0_daily_rainfall_NSW.csv\n",
      "-rw-r--r--   1 apple  staff  235661418 Mar 29 15:09 GFDL-CM4_daily_rainfall_NSW.csv\n",
      "-rw-r--r--   1 apple  staff  294260911 Mar 29 15:09 BCC-CSM2-MR_daily_rainfall_NSW.csv\n",
      "-rw-r--r--   1 apple  staff  295768615 Mar 29 15:09 EC-Earth3-Veg-LR_daily_rainfall_NSW.csv\n",
      "-rw-r--r--   1 apple  staff  328852379 Mar 29 15:09 CMCC-ESM2_daily_rainfall_NSW.csv\n",
      "-rw-r--r--   1 apple  staff   67784105 Mar 29 15:09 NESM3_daily_rainfall_NSW.csv\n",
      "-rw-r--r--   1 apple  staff   95640682 Mar 29 15:09 MPI-ESM1-2-LR_daily_rainfall_NSW.csv\n",
      "-rw-r--r--   1 apple  staff  114707410 Mar 29 15:09 ACCESS-ESM1-5_daily_rainfall_NSW.csv\n",
      "-rw-r--r--   1 apple  staff  116179272 Mar 29 15:09 FGOALS-g3_daily_rainfall_NSW.csv\n",
      "-rw-r--r--   1 apple  staff  102517965 Mar 29 15:09 INM-CM4-8_daily_rainfall_NSW.csv\n",
      "-rw-r--r--   1 apple  staff  515458033 Mar 29 15:09 MPI-ESM1-2-HR_daily_rainfall_NSW.csv\n",
      "-rw-r--r--   1 apple  staff  332813281 Mar 29 15:09 TaiESM1_daily_rainfall_NSW.csv\n",
      "-rw-r--r--   1 apple  staff  337555851 Mar 29 15:09 NorESM2-MM_daily_rainfall_NSW.csv\n",
      "-rw-r--r--   1 apple  staff  328787320 Mar 29 15:09 CMCC-CM2-SR5_daily_rainfall_NSW.csv\n",
      "-rw-r--r--   1 apple  staff     952202 Mar 29 15:09 observed_daily_rainfall_SYD.csv\n",
      "-rw-r--r--   1 apple  staff   93829697 Mar 29 15:10 KIOST-ESM_daily_rainfall_NSW.csv\n",
      "-rw-r--r--   1 apple  staff  102692289 Mar 29 15:10 INM-CM5-0_daily_rainfall_NSW.csv\n",
      "-rw-r--r--   1 apple  staff  206822938 Mar 29 15:10 MIROC6_daily_rainfall_NSW.csv\n",
      "-rw-r--r--   1 apple  staff   55224437 Mar 29 15:10 BCC-ESM1_daily_rainfall_NSW.csv\n",
      "-rw-r--r--   1 apple  staff  124586961 Mar 29 15:10 GFDL-ESM4_daily_rainfall_NSW.csv\n",
      "-rw-r--r--   1 apple  staff   46286371 Mar 29 15:10 CanESM5_daily_rainfall_NSW.csv\n",
      "-rw-r--r--   1 apple  staff  333489879 Mar 29 15:10 SAM0-UNICON_daily_rainfall_NSW.csv\n",
      "drwxr-xr-x  30 apple  staff        960 Mar 29 15:10 \u001b[1m\u001b[34m__MACOSX\u001b[m\u001b[m/\n"
     ]
    }
   ],
   "source": [
    "%ls -ltr figsharerainfall/"
   ]
  },
  {
   "cell_type": "markdown",
   "id": "744d2da3-b1a0-4dd1-8871-8638cee9e82d",
   "metadata": {},
   "source": [
    "> Data Download Comparison\n",
    "\n",
    "| Team Member | Operating System | RAM | Processor | Is SSD | Time taken |\n",
    "|:-----------:|:----------------:|:---:|:---------:|:------:|:----------:|\n",
    "| Adam Morphy | MacOS Big Sur | 8GB | 1.8 GHz Dual-Core Intel Core i5 | Yes | |\n",
    "| Mukund Iyer | MacOS Monterey | 8GB | 1.4 GHz Quad-Core Intel Core i5 | Yes | |\n",
    "| Julien Gordon | Ubuntu 20.04.4 LTS | 16GB | AMD® Ryzen 7 5800h with radeon graphics | Yes | |\n",
    "| Shiva Shankar Jena | MacOS Catalina 10.15.7 | 4GB | 1.4 GHz Dual-Core Intel Core i5 | Yes | 1m 16s |"
   ]
  },
  {
   "cell_type": "markdown",
   "id": "1b9182e4-7029-439d-8a17-310726306d9c",
   "metadata": {},
   "source": [
    "# 3. Combining data CSVs"
   ]
  },
  {
   "cell_type": "code",
   "execution_count": 2,
   "id": "1bb48406-b737-4141-8d10-3dfc36133084",
   "metadata": {},
   "outputs": [
    {
     "name": "stdout",
     "output_type": "stream",
     "text": [
      "CPU times: user 10min 2s, sys: 1min 1s, total: 11min 4s\n",
      "Wall time: 12min 58s\n"
     ]
    }
   ],
   "source": [
    "%%time\n",
    "\n",
    "use_cols = [\"rain\", \"lat_min\", \"lat_max\", \"Ion_min\", \"Ion_max\", \"rain (mm/day)\", \"model\"]\n",
    "files = glob.glob('figsharerainfall/*.csv')\n",
    "excluded_files = [\"figsharerainfall/observed_daily_rainfall_SYD.csv\"]\n",
    "df = pd.concat(\n",
    "    (\n",
    "        pd.read_csv(file, index_col=0)\n",
    "        .assign(model=re.findall(r'\\/(.*?)_', file)[0])\n",
    "        for file in files\n",
    "        if file not in excluded_files\n",
    "        \n",
    "    )\n",
    ")\n",
    "df.to_csv(\"figsharerainfall/combined_data.csv\")"
   ]
  },
  {
   "cell_type": "markdown",
   "id": "440d1712-3e43-4502-abb2-49fbdbe3d37d",
   "metadata": {},
   "source": [
    "> Combining Data Comparison\n",
    "\n",
    "| Team Member | Operating System | RAM | Processor | Is SSD | Time taken |\n",
    "|:-----------:|:----------------:|:---:|:---------:|:------:|:----------:|\n",
    "| Adam Morphy | MacOS Big Sur | 8GB | 1.8 GHz Dual-Core Intel Core i5 | Yes | |\n",
    "| Mukund Iyer | MacOS Monterey | 8GB | 1.4 GHz Quad-Core Intel Core i5 | Yes | |\n",
    "| Julien Gordon | Ubuntu 20.04.4 LTS | 16GB | AMD® Ryzen 7 5800h with radeon graphics | Yes | |\n",
    "| Shiva Shankar Jena | MacOS Catalina 10.15.7 | 4GB | 1.4 GHz Dual-Core Intel Core i5 | Yes | 12m 58s |"
   ]
  },
  {
   "cell_type": "markdown",
   "id": "8e55b325-c532-476e-8e15-ec2c22277843",
   "metadata": {},
   "source": [
    "# 4. Load the combined CSV to memory and perform a simple EDA"
   ]
  },
  {
   "cell_type": "markdown",
   "id": "d0ef8645-c129-4bcb-9d64-529a89d27372",
   "metadata": {},
   "source": [
    "## 4.1 Loading the whole data and performing EDA"
   ]
  },
  {
   "cell_type": "code",
   "execution_count": 3,
   "id": "fb1fea17-5364-422e-a5b4-777edcab085b",
   "metadata": {},
   "outputs": [
    {
     "name": "stdout",
     "output_type": "stream",
     "text": [
      "CPU times: user 1min 44s, sys: 47.8 s, total: 2min 32s\n",
      "Wall time: 3min 53s\n"
     ]
    }
   ],
   "source": [
    "%%time\n",
    "\n",
    "df_combined = pd.read_csv(\n",
    "    \"figsharerainfall/combined_data.csv\", \n",
    "    index_col=0,\n",
    "    parse_dates=True \n",
    ")"
   ]
  },
  {
   "cell_type": "code",
   "execution_count": 4,
   "id": "6cd3510a-ad59-4f32-81b5-b979e270ed0f",
   "metadata": {},
   "outputs": [
    {
     "name": "stdout",
     "output_type": "stream",
     "text": [
      "CPU times: user 4.27 s, sys: 1.49 s, total: 5.76 s\n",
      "Wall time: 6.6 s\n"
     ]
    },
    {
     "data": {
      "text/plain": [
       "27"
      ]
     },
     "execution_count": 4,
     "metadata": {},
     "output_type": "execute_result"
    }
   ],
   "source": [
    "%%time\n",
    "\n",
    "# EDA\n",
    "df_combined.model.nunique()"
   ]
  },
  {
   "cell_type": "code",
   "execution_count": 5,
   "id": "bce39220-ee53-409c-bf75-129c16049093",
   "metadata": {},
   "outputs": [
    {
     "name": "stdout",
     "output_type": "stream",
     "text": [
      "CPU times: user 4.91 s, sys: 528 ms, total: 5.44 s\n",
      "Wall time: 5.99 s\n"
     ]
    },
    {
     "data": {
      "text/plain": [
       "MPI-ESM1-2-HR       5154240\n",
       "CMCC-CM2-HR4        3541230\n",
       "CMCC-ESM2           3541230\n",
       "CMCC-CM2-SR5        3541230\n",
       "NorESM2-MM          3541230\n",
       "TaiESM1             3541230\n",
       "SAM0-UNICON         3541153\n",
       "GFDL-ESM4           3219300\n",
       "FGOALS-f3-L         3219300\n",
       "GFDL-CM4            3219300\n",
       "MRI-ESM2-0          3037320\n",
       "EC-Earth3-Veg-LR    3037320\n",
       "BCC-CSM2-MR         3035340\n",
       "MIROC6              2070900\n",
       "ACCESS-CM2          1932840\n",
       "ACCESS-ESM1-5       1610700\n",
       "INM-CM4-8           1609650\n",
       "INM-CM5-0           1609650\n",
       "FGOALS-g3           1287720\n",
       "KIOST-ESM           1287720\n",
       "AWI-ESM-1-1-LR       966420\n",
       "MPI-ESM1-2-LR        966420\n",
       "NESM3                966420\n",
       "MPI-ESM-1-2-HAM      966420\n",
       "NorESM2-LM           919800\n",
       "BCC-ESM1             551880\n",
       "CanESM5              551880\n",
       "Name: model, dtype: int64"
      ]
     },
     "execution_count": 5,
     "metadata": {},
     "output_type": "execute_result"
    }
   ],
   "source": [
    "%%time\n",
    "\n",
    "df_combined.model.value_counts()"
   ]
  },
  {
   "cell_type": "code",
   "execution_count": 6,
   "id": "348723f5-de7e-4e77-9fad-7a8fbf1517ba",
   "metadata": {
    "collapsed": true,
    "jupyter": {
     "outputs_hidden": true
    },
    "tags": []
   },
   "outputs": [
    {
     "name": "stdout",
     "output_type": "stream",
     "text": [
      "CPU times: user 2.4 ms, sys: 7.73 ms, total: 10.1 ms\n",
      "Wall time: 64.9 ms\n"
     ]
    },
    {
     "data": {
      "text/html": [
       "<div>\n",
       "<style scoped>\n",
       "    .dataframe tbody tr th:only-of-type {\n",
       "        vertical-align: middle;\n",
       "    }\n",
       "\n",
       "    .dataframe tbody tr th {\n",
       "        vertical-align: top;\n",
       "    }\n",
       "\n",
       "    .dataframe thead th {\n",
       "        text-align: right;\n",
       "    }\n",
       "</style>\n",
       "<table border=\"1\" class=\"dataframe\">\n",
       "  <thead>\n",
       "    <tr style=\"text-align: right;\">\n",
       "      <th></th>\n",
       "      <th>lat_min</th>\n",
       "      <th>lat_max</th>\n",
       "      <th>lon_min</th>\n",
       "      <th>lon_max</th>\n",
       "      <th>rain (mm/day)</th>\n",
       "      <th>model</th>\n",
       "    </tr>\n",
       "    <tr>\n",
       "      <th>time</th>\n",
       "      <th></th>\n",
       "      <th></th>\n",
       "      <th></th>\n",
       "      <th></th>\n",
       "      <th></th>\n",
       "      <th></th>\n",
       "    </tr>\n",
       "  </thead>\n",
       "  <tbody>\n",
       "    <tr>\n",
       "      <th>1889-01-01 12:00:00</th>\n",
       "      <td>-35.439867</td>\n",
       "      <td>-33.574619</td>\n",
       "      <td>141.5625</td>\n",
       "      <td>143.4375</td>\n",
       "      <td>4.244226e-13</td>\n",
       "      <td>MPI-ESM-1-2-HAM</td>\n",
       "    </tr>\n",
       "    <tr>\n",
       "      <th>1889-01-02 12:00:00</th>\n",
       "      <td>-35.439867</td>\n",
       "      <td>-33.574619</td>\n",
       "      <td>141.5625</td>\n",
       "      <td>143.4375</td>\n",
       "      <td>4.217326e-13</td>\n",
       "      <td>MPI-ESM-1-2-HAM</td>\n",
       "    </tr>\n",
       "    <tr>\n",
       "      <th>1889-01-03 12:00:00</th>\n",
       "      <td>-35.439867</td>\n",
       "      <td>-33.574619</td>\n",
       "      <td>141.5625</td>\n",
       "      <td>143.4375</td>\n",
       "      <td>4.498125e-13</td>\n",
       "      <td>MPI-ESM-1-2-HAM</td>\n",
       "    </tr>\n",
       "    <tr>\n",
       "      <th>1889-01-04 12:00:00</th>\n",
       "      <td>-35.439867</td>\n",
       "      <td>-33.574619</td>\n",
       "      <td>141.5625</td>\n",
       "      <td>143.4375</td>\n",
       "      <td>4.251282e-13</td>\n",
       "      <td>MPI-ESM-1-2-HAM</td>\n",
       "    </tr>\n",
       "    <tr>\n",
       "      <th>1889-01-05 12:00:00</th>\n",
       "      <td>-35.439867</td>\n",
       "      <td>-33.574619</td>\n",
       "      <td>141.5625</td>\n",
       "      <td>143.4375</td>\n",
       "      <td>4.270161e-13</td>\n",
       "      <td>MPI-ESM-1-2-HAM</td>\n",
       "    </tr>\n",
       "  </tbody>\n",
       "</table>\n",
       "</div>"
      ],
      "text/plain": [
       "                       lat_min    lat_max   lon_min   lon_max  rain (mm/day)  \\\n",
       "time                                                                           \n",
       "1889-01-01 12:00:00 -35.439867 -33.574619  141.5625  143.4375   4.244226e-13   \n",
       "1889-01-02 12:00:00 -35.439867 -33.574619  141.5625  143.4375   4.217326e-13   \n",
       "1889-01-03 12:00:00 -35.439867 -33.574619  141.5625  143.4375   4.498125e-13   \n",
       "1889-01-04 12:00:00 -35.439867 -33.574619  141.5625  143.4375   4.251282e-13   \n",
       "1889-01-05 12:00:00 -35.439867 -33.574619  141.5625  143.4375   4.270161e-13   \n",
       "\n",
       "                               model  \n",
       "time                                  \n",
       "1889-01-01 12:00:00  MPI-ESM-1-2-HAM  \n",
       "1889-01-02 12:00:00  MPI-ESM-1-2-HAM  \n",
       "1889-01-03 12:00:00  MPI-ESM-1-2-HAM  \n",
       "1889-01-04 12:00:00  MPI-ESM-1-2-HAM  \n",
       "1889-01-05 12:00:00  MPI-ESM-1-2-HAM  "
      ]
     },
     "execution_count": 6,
     "metadata": {},
     "output_type": "execute_result"
    }
   ],
   "source": [
    "%%time\n",
    "df_combined.head()"
   ]
  },
  {
   "cell_type": "markdown",
   "id": "17ed6bcf-5805-48d0-8104-6f8310408597",
   "metadata": {},
   "source": [
    "> Loading data and performing a simple EDA\n",
    "\n",
    "| Team Member | Operating System | RAM | Processor | Is SSD | Time taken |\n",
    "|:-----------:|:----------------:|:---:|:---------:|:------:|:----------:|\n",
    "| Adam Morphy | MacOS Big Sur | 8GB | 1.8 GHz Dual-Core Intel Core i5 | Yes | |\n",
    "| Mukund Iyer | MacOS Monterey | 8GB | 1.4 GHz Quad-Core Intel Core i5 | Yes | |\n",
    "| Julien Gordon | Ubuntu 20.04.4 LTS | 16GB | AMD® Ryzen 7 5800h with radeon graphics | Yes | |\n",
    "| Shiva Shankar Jena | MacOS Catalina 10.15.7 | 4GB | 1.4 GHz Dual-Core Intel Core i5 | Yes | 3m 59s |"
   ]
  },
  {
   "cell_type": "markdown",
   "id": "e205d8f4-50e9-4543-b745-d9466b312d27",
   "metadata": {},
   "source": [
    "# 4.2 Approach 1 to reduce memory usage: Changing dtype"
   ]
  },
  {
   "cell_type": "code",
   "execution_count": 7,
   "id": "0e246567-72ea-45a3-ad95-8f4f8a75a8a5",
   "metadata": {},
   "outputs": [
    {
     "data": {
      "text/plain": [
       "lat_min          float64\n",
       "lat_max          float64\n",
       "lon_min          float64\n",
       "lon_max          float64\n",
       "rain (mm/day)    float64\n",
       "model             object\n",
       "dtype: object"
      ]
     },
     "execution_count": 7,
     "metadata": {},
     "output_type": "execute_result"
    }
   ],
   "source": [
    "df_combined.dtypes"
   ]
  },
  {
   "cell_type": "code",
   "execution_count": 8,
   "id": "df9f16e7-09c9-446e-a98e-2c1e948124d9",
   "metadata": {},
   "outputs": [
    {
     "name": "stdout",
     "output_type": "stream",
     "text": [
      "Memory usage with float64: 2998.46 MB\n",
      "Memory usage with float32: 1749.10 MB\n"
     ]
    }
   ],
   "source": [
    "print(f\"Memory usage with float64: {df_combined[['lat_min', 'lat_max','lon_min', 'lon_max', 'rain (mm/day)']].memory_usage().sum() / 1e6:.2f} MB\")\n",
    "print(f\"Memory usage with float32: {df_combined[['lat_min', 'lat_max','lon_min', 'lon_max', 'rain (mm/day)']].astype('float32', errors='ignore').memory_usage().sum() / 1e6:.2f} MB\")"
   ]
  },
  {
   "cell_type": "code",
   "execution_count": 20,
   "id": "d2156862-9562-4e5d-a77a-63ecf570ac47",
   "metadata": {},
   "outputs": [
    {
     "name": "stdout",
     "output_type": "stream",
     "text": [
      "CPU times: user 3.29 s, sys: 11.8 s, total: 15.1 s\n",
      "Wall time: 1min 5s\n"
     ]
    }
   ],
   "source": [
    "%%time\n",
    "df_combined_float32 = df_combined[['lat_min', 'lat_max','lon_min', 'lon_max', 'rain (mm/day)']].astype('float32', errors='ignore')"
   ]
  },
  {
   "cell_type": "markdown",
   "id": "20361def-9e87-4216-9cfc-15b9f0a649a1",
   "metadata": {},
   "source": [
    "## 4.3 Approach 2 to reduce memory usage: loading in chunks"
   ]
  },
  {
   "cell_type": "code",
   "execution_count": 17,
   "id": "f2138e83-d45b-4589-b11d-9417a3202098",
   "metadata": {},
   "outputs": [
    {
     "name": "stdout",
     "output_type": "stream",
     "text": [
      "ACCESS-CM2          1932840\n",
      "ACCESS-ESM1-5       1610700\n",
      "AWI-ESM-1-1-LR       966420\n",
      "BCC-CSM2-MR         3035340\n",
      "BCC-ESM1             551880\n",
      "CMCC-CM2-HR4        3541230\n",
      "CMCC-CM2-SR5        3541230\n",
      "CMCC-ESM2           3541230\n",
      "CanESM5              551880\n",
      "EC-Earth3-Veg-LR    3037320\n",
      "FGOALS-f3-L         3219300\n",
      "FGOALS-g3           1287720\n",
      "GFDL-CM4            3219300\n",
      "GFDL-ESM4           3219300\n",
      "INM-CM4-8           1609650\n",
      "INM-CM5-0           1609650\n",
      "KIOST-ESM           1287720\n",
      "MIROC6              2070900\n",
      "MPI-ESM-1-2-HAM      966420\n",
      "MPI-ESM1-2-HR       5154240\n",
      "MPI-ESM1-2-LR        966420\n",
      "MRI-ESM2-0          3037320\n",
      "NESM3                966420\n",
      "NorESM2-LM           919800\n",
      "NorESM2-MM          3541230\n",
      "SAM0-UNICON         3541153\n",
      "TaiESM1             3541230\n",
      "dtype: int64\n",
      "CPU times: user 1min 28s, sys: 13.7 s, total: 1min 41s\n",
      "Wall time: 1min 45s\n"
     ]
    }
   ],
   "source": [
    "%%time\n",
    "\n",
    "# Doing EDA with only chunks of data\n",
    "counts=pd.Series(dtype=int)\n",
    "for chunk in pd.read_csv(\n",
    "    \"figsharerainfall/combined_data.csv\",\n",
    "    parse_dates=True,\n",
    "    chunksize=1_000_000\n",
    "):\n",
    "    counts=counts.add(chunk.model.value_counts(), fill_value=0)\n",
    "\n",
    "print(counts.astype(int))"
   ]
  },
  {
   "cell_type": "markdown",
   "id": "efe4be0f-2c6b-46e6-8ace-adc1636f5ea7",
   "metadata": {},
   "source": [
    "# 5. Perform a simple EDA in R"
   ]
  },
  {
   "cell_type": "markdown",
   "id": "9e2fda37-8d06-4a39-8f8e-9a67349d07df",
   "metadata": {},
   "source": [
    "## 5.1 Using parquet file to transfer the dataframe from python to R"
   ]
  },
  {
   "cell_type": "code",
   "execution_count": 18,
   "id": "24c805ee-fb3b-438e-8a71-6855bb59fbb2",
   "metadata": {},
   "outputs": [],
   "source": [
    "# Using pandas\n",
    "df_combined.to_parquet(\"figsharerainfall/combined_data_partition.parquet\")"
   ]
  },
  {
   "cell_type": "code",
   "execution_count": 24,
   "id": "6e98db94-ac8c-4338-bd19-33d898d86a3a",
   "metadata": {},
   "outputs": [],
   "source": [
    "%load_ext rpy2.ipython"
   ]
  },
  {
   "cell_type": "code",
   "execution_count": 25,
   "id": "d0ea86da-3ac6-478b-bfbb-cec2f7a5ee8f",
   "metadata": {},
   "outputs": [],
   "source": [
    "import rpy2_arrow.pyarrow_rarrow as pyra"
   ]
  },
  {
   "cell_type": "code",
   "execution_count": 26,
   "id": "e6f858b4-9d5c-460d-b0c4-d28628bff5e4",
   "metadata": {},
   "outputs": [],
   "source": [
    "%%R\n",
    "suppressMessages(library(arrow, warn.conflicts = FALSE))\n",
    "suppressMessages(library(dplyr, warn.conflicts = FALSE))"
   ]
  },
  {
   "cell_type": "code",
   "execution_count": 27,
   "id": "b43aa91f-c906-4f4c-8fbb-a1511a82a268",
   "metadata": {},
   "outputs": [
    {
     "name": "stdout",
     "output_type": "stream",
     "text": [
      "CPU times: user 18.5 ms, sys: 17.4 ms, total: 35.9 ms\n",
      "Wall time: 40.3 ms\n"
     ]
    }
   ],
   "source": [
    "%%time\n",
    "%%R\n",
    "ds_rainfall <- open_dataset(\"figsharerainfall/combined_data_partition.parquet\")"
   ]
  },
  {
   "cell_type": "code",
   "execution_count": 34,
   "id": "9f848a72-24a0-43c0-8cc3-15d34f80c287",
   "metadata": {},
   "outputs": [
    {
     "name": "stdout",
     "output_type": "stream",
     "text": [
      "CPU times: user 37.2 ms, sys: 19.4 ms, total: 56.6 ms\n",
      "Wall time: 77.8 ms\n"
     ]
    }
   ],
   "source": [
    "%%time\n",
    "%%R\n",
    "query <- ds_rainfall %>%\n",
    "    select(model) %>%\n",
    "    group_by(model) %>%\n",
    "    summarise(\n",
    "        count = n()\n",
    "    )"
   ]
  },
  {
   "cell_type": "code",
   "execution_count": 36,
   "id": "9c1b508f-4897-4a2a-b2c0-872aaeb92ca9",
   "metadata": {},
   "outputs": [
    {
     "name": "stdout",
     "output_type": "stream",
     "text": [
      "# A tibble: 27 × 2\n",
      "   model              count\n",
      "   <chr>              <int>\n",
      " 1 MPI-ESM-1-2-HAM   966420\n",
      " 2 AWI-ESM-1-1-LR    966420\n",
      " 3 FGOALS-f3-L      3219300\n",
      " 4 CMCC-CM2-HR4     3541230\n",
      " 5 MRI-ESM2-0       3037320\n",
      " 6 GFDL-CM4         3219300\n",
      " 7 BCC-CSM2-MR      3035340\n",
      " 8 EC-Earth3-Veg-LR 3037320\n",
      " 9 CMCC-ESM2        3541230\n",
      "10 ACCESS-ESM1-5    1610700\n",
      "# … with 17 more rows\n",
      "CPU times: user 6.98 s, sys: 4.4 s, total: 11.4 s\n",
      "Wall time: 9.31 s\n"
     ]
    }
   ],
   "source": [
    "%%time\n",
    "%%R\n",
    "print(query %>% collect())"
   ]
  },
  {
   "cell_type": "markdown",
   "id": "920d1981-b538-4f42-bcd1-2c45f995e61e",
   "metadata": {},
   "source": [
    "> EDA time in R using parquet file --> arrow object ---> EDA ---> collect() (including loading time)\n",
    "\n",
    "| Team Member | Operating System | RAM | Processor | Is SSD | Time taken |\n",
    "|:-----------:|:----------------:|:---:|:---------:|:------:|:----------:|\n",
    "| Adam Morphy | MacOS Big Sur | 8GB | 1.8 GHz Dual-Core Intel Core i5 | Yes | |\n",
    "| Mukund Iyer | MacOS Monterey | 8GB | 1.4 GHz Quad-Core Intel Core i5 | Yes | |\n",
    "| Julien Gordon | Ubuntu 20.04.4 LTS | 16GB | AMD® Ryzen 7 5800h with radeon graphics | Yes | |\n",
    "| Shiva Shankar Jena | MacOS Catalina 10.15.7 | 4GB | 1.4 GHz Dual-Core Intel Core i5 | Yes | 10s |"
   ]
  },
  {
   "cell_type": "code",
   "execution_count": null,
   "id": "7ed76250-f607-468f-95c8-af5c9d3feda5",
   "metadata": {},
   "outputs": [],
   "source": []
  }
 ],
 "metadata": {
  "kernelspec": {
   "display_name": "Python [conda env:525_2022]",
   "language": "python",
   "name": "conda-env-525_2022-py"
  },
  "language_info": {
   "codemirror_mode": {
    "name": "ipython",
    "version": 3
   },
   "file_extension": ".py",
   "mimetype": "text/x-python",
   "name": "python",
   "nbconvert_exporter": "python",
   "pygments_lexer": "ipython3",
   "version": "3.8.6"
  }
 },
 "nbformat": 4,
 "nbformat_minor": 5
}
